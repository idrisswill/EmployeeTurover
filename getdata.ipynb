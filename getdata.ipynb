{
 "cells": [
  {
   "cell_type": "code",
   "execution_count": 2,
   "metadata": {
    "collapsed": true
   },
   "outputs": [],
   "source": [
    "import  pandas as pd\n",
    "import numpy as np\n",
    "import matplotlib.pyplot as plt\n",
    "import  plotly.express as px\n"
   ]
  },
  {
   "cell_type": "code",
   "execution_count": 6,
   "outputs": [],
   "source": [
    "from core import startproject as start"
   ],
   "metadata": {
    "collapsed": false,
    "pycharm": {
     "name": "#%%\n"
    }
   }
  },
  {
   "cell_type": "code",
   "execution_count": 7,
   "outputs": [
    {
     "data": {
      "text/plain": "<IPython.core.display.HTML object>",
      "text/html": "<style>\ndiv.warn {\n    background-color: #fcf2f2;\n    border-color: #dFb5b4;\n    border-left: 5px solid #dfb5b4;\n    padding: 0.5em;\n    font-weight: bold;\n    font-size: 1.1em;;\n    }\n\n\n\ndiv.nota {    \n    background-color: #DAFFDE;\n    border-left: 5px solid #92CC99;\n    padding: 0.5em;\n    }\n\ndiv.todo:before { content:url(data:image/svg+xml;base64,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);\n    float:left;\n    margin-right:20px;\n    margin-top:-20px;\n    margin-bottom:20px;\n}\ndiv.todo{\n    font-weight: bold;\n    font-size: 1.1em;\n    margin-top:40px;\n}\ndiv.todo ul{\n    margin: 0.2em;\n}\ndiv.todo li{\n    margin-left:60px;\n    margin-top:0;\n    margin-bottom:0;\n}\n\ndiv .comment{\n    font-size:0.8em;\n    color:#696969;\n}\n\n</style>\n\n\n"
     },
     "metadata": {},
     "output_type": "display_data"
    },
    {
     "data": {
      "text/plain": "<IPython.core.display.Markdown object>",
      "text/markdown": "<br>**PROJECT 2022 - EMPLOYEE TURNOVER**"
     },
     "metadata": {},
     "output_type": "display_data"
    },
    {
     "name": "stdout",
     "output_type": "stream",
     "text": [
      "Version              : 1.0.0\n",
      "Notebook id          : EMPLOYEETURNOVER\n",
      "Run time             : Saturday 05 November 2022, 17:08:35\n",
      "Hostname             : kaliAlphadeep (Linux)\n",
      "Tensorflow log level : Info + Warning + Error  (=0)\n",
      "Datasets dir         : /data/AllProjectIA/EmployeesTurnover/dataset\n",
      "Run dir              : ./run\n",
      "tensorflow           : 2.10.0\n",
      "numpy                : 1.23.4\n",
      "sklearn              : 1.1.3\n",
      "matplotlib           : 3.6.2\n",
      "plotly               : 5.11.0\n",
      "pandas               : 1.5.1\n"
     ]
    }
   ],
   "source": [
    "dataset_dir = start.init()"
   ],
   "metadata": {
    "collapsed": false,
    "pycharm": {
     "name": "#%%\n"
    }
   }
  },
  {
   "cell_type": "markdown",
   "source": [
    "# get Data"
   ],
   "metadata": {
    "collapsed": false,
    "pycharm": {
     "name": "#%% md\n"
    }
   }
  },
  {
   "cell_type": "markdown",
   "source": [
    "## get fake data of kaggle"
   ],
   "metadata": {
    "collapsed": false,
    "pycharm": {
     "name": "#%% md\n"
    }
   }
  },
  {
   "cell_type": "code",
   "execution_count": 9,
   "outputs": [],
   "source": [
    "data1 = pd.read_csv(\"dataset/data1/WA_Fn-UseC_-HR-Employee-Attrition.csv\")"
   ],
   "metadata": {
    "collapsed": false,
    "pycharm": {
     "name": "#%%\n"
    }
   }
  },
  {
   "cell_type": "code",
   "execution_count": 10,
   "outputs": [],
   "source": [
    "data2 = pd.read_csv(\"dataset/data2/MFG10YearTerminationData.csv\")"
   ],
   "metadata": {
    "collapsed": false,
    "pycharm": {
     "name": "#%%\n"
    }
   }
  },
  {
   "cell_type": "code",
   "execution_count": 12,
   "outputs": [],
   "source": [
    "data3 = pd.read_csv(\"dataset/data3/turnover.csv\",encoding='latin1')"
   ],
   "metadata": {
    "collapsed": false,
    "pycharm": {
     "name": "#%%\n"
    }
   }
  },
  {
   "cell_type": "markdown",
   "source": [
    "## get data from formular based on system of number of like and dislike"
   ],
   "metadata": {
    "collapsed": false,
    "pycharm": {
     "name": "#%% md\n"
    }
   }
  },
  {
   "cell_type": "code",
   "source": [
    "churn = pd.read_csv(\"dataset/data4/churn.csv\")\n",
    "comment_interaction = pd.read_csv(\"dataset/data4/commentInteractions.csv\")\n",
    "vote = pd.read_csv(\"dataset/data4/votes.csv\")\n",
    "comment_anonyme = pd.read_csv(\"dataset/data4/comments_clean_anonimized.csv\")"
   ],
   "metadata": {
    "collapsed": false,
    "pycharm": {
     "name": "#%%\n"
    }
   },
   "execution_count": 18,
   "outputs": [
    {
     "name": "stderr",
     "output_type": "stream",
     "text": [
      "/tmp/ipykernel_117923/2299788218.py:2: DtypeWarning: Columns (2,3) have mixed types. Specify dtype option on import or set low_memory=False.\n",
      "  comment_interaction = pd.read_csv(\"dataset/data4/commentInteractions.csv\")\n"
     ]
    }
   ]
  },
  {
   "cell_type": "code",
   "execution_count": 19,
   "outputs": [],
   "source": [
    "#remove duplicates row\n",
    "churn = churn.drop_duplicates()\n",
    "comment_anonyme = comment_anonyme.drop_duplicates()\n",
    "comment_interaction = comment_interaction.drop_duplicates()\n",
    "vote = vote.drop_duplicates()"
   ],
   "metadata": {
    "collapsed": false,
    "pycharm": {
     "name": "#%%\n"
    }
   }
  },
  {
   "cell_type": "code",
   "execution_count": 21,
   "outputs": [
    {
     "name": "stderr",
     "output_type": "stream",
     "text": [
      "/tmp/ipykernel_117923/2264114485.py:3: FutureWarning: In a future version of pandas all arguments of DataFrame.drop except for the argument 'labels' will be keyword-only.\n",
      "  merged = merged.drop(['lastParticipationDate', 'voteDate'], 1)\n"
     ]
    },
    {
     "data": {
      "text/plain": "        employee              companyAlias  numVotes  stillExists  vote\n0            512  56aec740f1ef260003e307d6         4         True     3\n1            512  56aec740f1ef260003e307d6         4         True     2\n2            512  56aec740f1ef260003e307d6         4         True     1\n3            512  56aec740f1ef260003e307d6         4         True     4\n4              2  56aec740f1ef260003e307d6        72         True     2\n...          ...                       ...       ...          ...   ...\n222878        17  573a0671b5ec330003add34a         7         True     3\n222879        17  573a0671b5ec330003add34a         7         True     4\n222880        17  573a0671b5ec330003add34a         7         True     4\n222881        17  573a0671b5ec330003add34a         7         True     4\n222882        19  573a0671b5ec330003add34a         1         True     4\n\n[222883 rows x 5 columns]",
      "text/html": "<div>\n<style scoped>\n    .dataframe tbody tr th:only-of-type {\n        vertical-align: middle;\n    }\n\n    .dataframe tbody tr th {\n        vertical-align: top;\n    }\n\n    .dataframe thead th {\n        text-align: right;\n    }\n</style>\n<table border=\"1\" class=\"dataframe\">\n  <thead>\n    <tr style=\"text-align: right;\">\n      <th></th>\n      <th>employee</th>\n      <th>companyAlias</th>\n      <th>numVotes</th>\n      <th>stillExists</th>\n      <th>vote</th>\n    </tr>\n  </thead>\n  <tbody>\n    <tr>\n      <th>0</th>\n      <td>512</td>\n      <td>56aec740f1ef260003e307d6</td>\n      <td>4</td>\n      <td>True</td>\n      <td>3</td>\n    </tr>\n    <tr>\n      <th>1</th>\n      <td>512</td>\n      <td>56aec740f1ef260003e307d6</td>\n      <td>4</td>\n      <td>True</td>\n      <td>2</td>\n    </tr>\n    <tr>\n      <th>2</th>\n      <td>512</td>\n      <td>56aec740f1ef260003e307d6</td>\n      <td>4</td>\n      <td>True</td>\n      <td>1</td>\n    </tr>\n    <tr>\n      <th>3</th>\n      <td>512</td>\n      <td>56aec740f1ef260003e307d6</td>\n      <td>4</td>\n      <td>True</td>\n      <td>4</td>\n    </tr>\n    <tr>\n      <th>4</th>\n      <td>2</td>\n      <td>56aec740f1ef260003e307d6</td>\n      <td>72</td>\n      <td>True</td>\n      <td>2</td>\n    </tr>\n    <tr>\n      <th>...</th>\n      <td>...</td>\n      <td>...</td>\n      <td>...</td>\n      <td>...</td>\n      <td>...</td>\n    </tr>\n    <tr>\n      <th>222878</th>\n      <td>17</td>\n      <td>573a0671b5ec330003add34a</td>\n      <td>7</td>\n      <td>True</td>\n      <td>3</td>\n    </tr>\n    <tr>\n      <th>222879</th>\n      <td>17</td>\n      <td>573a0671b5ec330003add34a</td>\n      <td>7</td>\n      <td>True</td>\n      <td>4</td>\n    </tr>\n    <tr>\n      <th>222880</th>\n      <td>17</td>\n      <td>573a0671b5ec330003add34a</td>\n      <td>7</td>\n      <td>True</td>\n      <td>4</td>\n    </tr>\n    <tr>\n      <th>222881</th>\n      <td>17</td>\n      <td>573a0671b5ec330003add34a</td>\n      <td>7</td>\n      <td>True</td>\n      <td>4</td>\n    </tr>\n    <tr>\n      <th>222882</th>\n      <td>19</td>\n      <td>573a0671b5ec330003add34a</td>\n      <td>1</td>\n      <td>True</td>\n      <td>4</td>\n    </tr>\n  </tbody>\n</table>\n<p>222883 rows × 5 columns</p>\n</div>"
     },
     "execution_count": 21,
     "metadata": {},
     "output_type": "execute_result"
    }
   ],
   "source": [
    "# merge data\n",
    "merged = churn.merge(vote, left_on=['employee', 'companyAlias'], right_on=['employee','companyAlias'])\n",
    "merged = merged.drop(['lastParticipationDate', 'voteDate'], 1)\n",
    "merged"
   ],
   "metadata": {
    "collapsed": false,
    "pycharm": {
     "name": "#%%\n"
    }
   }
  },
  {
   "cell_type": "code",
   "execution_count": 22,
   "outputs": [
    {
     "data": {
      "text/plain": "                                   numVotes      vote  stillExists\nemployee companyAlias                                             \n1        5474b9cde4b0bf7614b2c66f       2.0  4.000000         True\n         54d43612e4b0f6a40755d93e      16.0  3.125000        False\n         54e52607e4b01191dc064966     135.0  2.985075        False\n         5641f96713664c000332c8cd     257.0  3.171206         True\n         56558cfd07a5de00030908fb       2.0  3.500000         True\n...                                     ...       ...          ...\n991      54e52607e4b01191dc064966       1.0  3.000000         True\n995      54e52607e4b01191dc064966       6.0  2.666667         True\n996      54e52607e4b01191dc064966      20.0  2.450000         True\n997      54e52607e4b01191dc064966       1.0  3.000000        False\n999      54e52607e4b01191dc064966      20.0  2.850000         True\n\n[4377 rows x 3 columns]",
      "text/html": "<div>\n<style scoped>\n    .dataframe tbody tr th:only-of-type {\n        vertical-align: middle;\n    }\n\n    .dataframe tbody tr th {\n        vertical-align: top;\n    }\n\n    .dataframe thead th {\n        text-align: right;\n    }\n</style>\n<table border=\"1\" class=\"dataframe\">\n  <thead>\n    <tr style=\"text-align: right;\">\n      <th></th>\n      <th></th>\n      <th>numVotes</th>\n      <th>vote</th>\n      <th>stillExists</th>\n    </tr>\n    <tr>\n      <th>employee</th>\n      <th>companyAlias</th>\n      <th></th>\n      <th></th>\n      <th></th>\n    </tr>\n  </thead>\n  <tbody>\n    <tr>\n      <th rowspan=\"5\" valign=\"top\">1</th>\n      <th>5474b9cde4b0bf7614b2c66f</th>\n      <td>2.0</td>\n      <td>4.000000</td>\n      <td>True</td>\n    </tr>\n    <tr>\n      <th>54d43612e4b0f6a40755d93e</th>\n      <td>16.0</td>\n      <td>3.125000</td>\n      <td>False</td>\n    </tr>\n    <tr>\n      <th>54e52607e4b01191dc064966</th>\n      <td>135.0</td>\n      <td>2.985075</td>\n      <td>False</td>\n    </tr>\n    <tr>\n      <th>5641f96713664c000332c8cd</th>\n      <td>257.0</td>\n      <td>3.171206</td>\n      <td>True</td>\n    </tr>\n    <tr>\n      <th>56558cfd07a5de00030908fb</th>\n      <td>2.0</td>\n      <td>3.500000</td>\n      <td>True</td>\n    </tr>\n    <tr>\n      <th>...</th>\n      <th>...</th>\n      <td>...</td>\n      <td>...</td>\n      <td>...</td>\n    </tr>\n    <tr>\n      <th>991</th>\n      <th>54e52607e4b01191dc064966</th>\n      <td>1.0</td>\n      <td>3.000000</td>\n      <td>True</td>\n    </tr>\n    <tr>\n      <th>995</th>\n      <th>54e52607e4b01191dc064966</th>\n      <td>6.0</td>\n      <td>2.666667</td>\n      <td>True</td>\n    </tr>\n    <tr>\n      <th>996</th>\n      <th>54e52607e4b01191dc064966</th>\n      <td>20.0</td>\n      <td>2.450000</td>\n      <td>True</td>\n    </tr>\n    <tr>\n      <th>997</th>\n      <th>54e52607e4b01191dc064966</th>\n      <td>1.0</td>\n      <td>3.000000</td>\n      <td>False</td>\n    </tr>\n    <tr>\n      <th>999</th>\n      <th>54e52607e4b01191dc064966</th>\n      <td>20.0</td>\n      <td>2.850000</td>\n      <td>True</td>\n    </tr>\n  </tbody>\n</table>\n<p>4377 rows × 3 columns</p>\n</div>"
     },
     "execution_count": 22,
     "metadata": {},
     "output_type": "execute_result"
    }
   ],
   "source": [
    "# group merge by employee and company\n",
    "m = merged.groupby(['employee', 'companyAlias']).agg(numVotes=('numVotes', 'mean'), vote=('vote', 'mean'), stillExists=('stillExists', np.all))\n",
    "m"
   ],
   "metadata": {
    "collapsed": false,
    "pycharm": {
     "name": "#%%\n"
    }
   }
  },
  {
   "cell_type": "code",
   "execution_count": 23,
   "outputs": [
    {
     "name": "stderr",
     "output_type": "stream",
     "text": [
      "/tmp/ipykernel_117923/2617863580.py:4: FutureWarning: In a future version of pandas all arguments of DataFrame.drop except for the argument 'labels' will be keyword-only.\n",
      "  merged = merged.drop(['employee', 'companyAlias'], 1)\n"
     ]
    },
    {
     "data": {
      "text/plain": "        numVotes  stillExists  vote  combined_id\n0              4         True     3            0\n1              4         True     2            0\n2              4         True     1            0\n3              4         True     4            0\n4             72         True     2            1\n...          ...          ...   ...          ...\n222878         7         True     3         4375\n222879         7         True     4         4375\n222880         7         True     4         4375\n222881         7         True     4         4375\n222882         1         True     4         4376\n\n[222883 rows x 4 columns]",
      "text/html": "<div>\n<style scoped>\n    .dataframe tbody tr th:only-of-type {\n        vertical-align: middle;\n    }\n\n    .dataframe tbody tr th {\n        vertical-align: top;\n    }\n\n    .dataframe thead th {\n        text-align: right;\n    }\n</style>\n<table border=\"1\" class=\"dataframe\">\n  <thead>\n    <tr style=\"text-align: right;\">\n      <th></th>\n      <th>numVotes</th>\n      <th>stillExists</th>\n      <th>vote</th>\n      <th>combined_id</th>\n    </tr>\n  </thead>\n  <tbody>\n    <tr>\n      <th>0</th>\n      <td>4</td>\n      <td>True</td>\n      <td>3</td>\n      <td>0</td>\n    </tr>\n    <tr>\n      <th>1</th>\n      <td>4</td>\n      <td>True</td>\n      <td>2</td>\n      <td>0</td>\n    </tr>\n    <tr>\n      <th>2</th>\n      <td>4</td>\n      <td>True</td>\n      <td>1</td>\n      <td>0</td>\n    </tr>\n    <tr>\n      <th>3</th>\n      <td>4</td>\n      <td>True</td>\n      <td>4</td>\n      <td>0</td>\n    </tr>\n    <tr>\n      <th>4</th>\n      <td>72</td>\n      <td>True</td>\n      <td>2</td>\n      <td>1</td>\n    </tr>\n    <tr>\n      <th>...</th>\n      <td>...</td>\n      <td>...</td>\n      <td>...</td>\n      <td>...</td>\n    </tr>\n    <tr>\n      <th>222878</th>\n      <td>7</td>\n      <td>True</td>\n      <td>3</td>\n      <td>4375</td>\n    </tr>\n    <tr>\n      <th>222879</th>\n      <td>7</td>\n      <td>True</td>\n      <td>4</td>\n      <td>4375</td>\n    </tr>\n    <tr>\n      <th>222880</th>\n      <td>7</td>\n      <td>True</td>\n      <td>4</td>\n      <td>4375</td>\n    </tr>\n    <tr>\n      <th>222881</th>\n      <td>7</td>\n      <td>True</td>\n      <td>4</td>\n      <td>4375</td>\n    </tr>\n    <tr>\n      <th>222882</th>\n      <td>1</td>\n      <td>True</td>\n      <td>4</td>\n      <td>4376</td>\n    </tr>\n  </tbody>\n</table>\n<p>222883 rows × 4 columns</p>\n</div>"
     },
     "execution_count": 23,
     "metadata": {},
     "output_type": "execute_result"
    }
   ],
   "source": [
    "# generate unique id\n",
    "merged['employee'] = merged['employee'].apply(str)\n",
    "merged['combined_id'] = pd.factorize(merged.employee+merged.companyAlias)[0]\n",
    "merged = merged.drop(['employee', 'companyAlias'], 1)\n",
    "merged"
   ],
   "metadata": {
    "collapsed": false,
    "pycharm": {
     "name": "#%%\n"
    }
   }
  },
  {
   "cell_type": "code",
   "execution_count": 25,
   "outputs": [],
   "source": [
    "#group now by unique id\n",
    "m = merged.groupby('combined_id').agg(numVotes=('numVotes', 'mean'), vote=('vote', 'mean'), stillExists=('stillExists', np.all))"
   ],
   "metadata": {
    "collapsed": false,
    "pycharm": {
     "name": "#%%\n"
    }
   }
  },
  {
   "cell_type": "code",
   "execution_count": 26,
   "outputs": [
    {
     "data": {
      "text/plain": "             numVotes      vote  stillExists\ncombined_id                                 \n0                 4.0  2.500000         True\n1                72.0  2.250000         True\n2                14.0  3.142857        False\n3                22.0  3.454545         True\n4               195.0  3.856410         True",
      "text/html": "<div>\n<style scoped>\n    .dataframe tbody tr th:only-of-type {\n        vertical-align: middle;\n    }\n\n    .dataframe tbody tr th {\n        vertical-align: top;\n    }\n\n    .dataframe thead th {\n        text-align: right;\n    }\n</style>\n<table border=\"1\" class=\"dataframe\">\n  <thead>\n    <tr style=\"text-align: right;\">\n      <th></th>\n      <th>numVotes</th>\n      <th>vote</th>\n      <th>stillExists</th>\n    </tr>\n    <tr>\n      <th>combined_id</th>\n      <th></th>\n      <th></th>\n      <th></th>\n    </tr>\n  </thead>\n  <tbody>\n    <tr>\n      <th>0</th>\n      <td>4.0</td>\n      <td>2.500000</td>\n      <td>True</td>\n    </tr>\n    <tr>\n      <th>1</th>\n      <td>72.0</td>\n      <td>2.250000</td>\n      <td>True</td>\n    </tr>\n    <tr>\n      <th>2</th>\n      <td>14.0</td>\n      <td>3.142857</td>\n      <td>False</td>\n    </tr>\n    <tr>\n      <th>3</th>\n      <td>22.0</td>\n      <td>3.454545</td>\n      <td>True</td>\n    </tr>\n    <tr>\n      <th>4</th>\n      <td>195.0</td>\n      <td>3.856410</td>\n      <td>True</td>\n    </tr>\n  </tbody>\n</table>\n</div>"
     },
     "execution_count": 26,
     "metadata": {},
     "output_type": "execute_result"
    }
   ],
   "source": [
    "m.reset_index()\n",
    "m.head()"
   ],
   "metadata": {
    "collapsed": false,
    "pycharm": {
     "name": "#%%\n"
    }
   }
  },
  {
   "cell_type": "code",
   "execution_count": 29,
   "outputs": [],
   "source": [
    "m.to_csv('dataset/data4/data4.csv', index=False)"
   ],
   "metadata": {
    "collapsed": false,
    "pycharm": {
     "name": "#%%\n"
    }
   }
  },
  {
   "cell_type": "code",
   "execution_count": null,
   "outputs": [],
   "source": [],
   "metadata": {
    "collapsed": false,
    "pycharm": {
     "name": "#%%\n"
    }
   }
  }
 ],
 "metadata": {
  "kernelspec": {
   "display_name": "Python 3",
   "language": "python",
   "name": "python3"
  },
  "language_info": {
   "codemirror_mode": {
    "name": "ipython",
    "version": 2
   },
   "file_extension": ".py",
   "mimetype": "text/x-python",
   "name": "python",
   "nbconvert_exporter": "python",
   "pygments_lexer": "ipython2",
   "version": "2.7.6"
  }
 },
 "nbformat": 4,
 "nbformat_minor": 0
}